{
 "cells": [
  {
   "cell_type": "code",
   "execution_count": 68,
   "metadata": {
    "collapsed": true
   },
   "outputs": [],
   "source": [
    "from osgeo import gdal"
   ]
  },
  {
   "cell_type": "code",
   "execution_count": 69,
   "outputs": [],
   "source": [
    "dataset = gdal.Open(r\"E:\\Desktop\\20221017-1022\\20221020\\2022-07-13_3_S2DL.tif\")"
   ],
   "metadata": {
    "collapsed": false,
    "pycharm": {
     "name": "#%%\n"
    }
   }
  },
  {
   "cell_type": "code",
   "execution_count": 70,
   "outputs": [],
   "source": [
    "description = dataset.GetDescription()  #获得栅格的描述信息\n",
    "# 'E:\\\\Desktop\\\\20221017-1022\\\\20221020\\\\2022-07-13_3_S2DL.tif'\n",
    "\n",
    "rcount = dataset.RasterCount  #获得栅格数据集的波段数\n",
    "# 23\n",
    "rX = dataset.RasterXSize  #栅格数据的宽度(X方向上的像素个数)\n",
    "# 4659\n",
    "rY = dataset.RasterYSize  #栅格数据的高度(Y方向上的像素个数)\n",
    "#rY\n",
    "extend = dataset.GetGeoTransform()  #栅格数据的六参数。\n",
    "# (132.91275314469934,左上角经度坐标                           0\n",
    "#  8.983152841195215e-05,X轴方向像元大小(水平空间分辨率)          1\n",
    "#  0.0,X偏移 行旋转                                            2\n",
    "#  47.43176565373803,左上角纬度坐标                             3\n",
    "#  0.0,Y偏移  列旋转                                           4\n",
    "# -8.983152841195215e-05)Y轴方向像元大小                        5\n",
    "\n",
    "\n",
    "prj = dataset.GetProjection()  #栅格数据的投影\n",
    "# 'GEOGCS[\"WGS 84\",DATUM[\"WGS_1984\",SPHEROID[\"WGS 84\",6378137,298.257223563,AUTHORITY[\"EPSG\",\"7030\"]],AUTHORITY[\"EPSG\",\"6326\"]],地理坐标系及参考椭球体\n",
    "# PRIMEM[\"Greenwich\",0,AUTHORITY[\"EPSG\",\"8901\"]],中央经线\n",
    "# UNIT[\"degree\",0.0174532925199433,指分辨率大小\n",
    "# AUTHORITY[\"EPSG\",\"9122\"]],指的是EPSG数据集中UNIT为degree的ID是9122\n",
    "# AXIS[\"Latitude\",NORTH],\n",
    "# AXIS[\"Longitude\",EAST],AUTHORITY[\"EPSG\",\"4326\"]]'指的是EPSG数据集中坐标系ID为4326"
   ],
   "metadata": {
    "collapsed": false,
    "pycharm": {
     "name": "#%%\n"
    }
   }
  },
  {
   "cell_type": "code",
   "execution_count": 71,
   "outputs": [],
   "source": [
    "bd = dataset.GetRasterBand(1)\n",
    "# <osgeo.gdal.Band; proxy of <Swig Object of type 'GDALRasterBandShadow *' at 0x000001395CB85990> >"
   ],
   "metadata": {
    "collapsed": false,
    "pycharm": {
     "name": "#%%\n"
    }
   }
  },
  {
   "cell_type": "code",
   "execution_count": 72,
   "outputs": [
    {
     "data": {
      "text/plain": "array([[0, 0, 0, ..., 0, 0, 0],\n       [0, 0, 0, ..., 0, 0, 0],\n       [0, 0, 0, ..., 0, 0, 0],\n       ...,\n       [0, 0, 0, ..., 0, 0, 0],\n       [0, 0, 0, ..., 0, 0, 0],\n       [0, 0, 0, ..., 0, 0, 0]], dtype=int16)"
     },
     "execution_count": 72,
     "metadata": {},
     "output_type": "execute_result"
    }
   ],
   "source": [
    "rs = bd.ReadAsArray()\n",
    "rs"
   ],
   "metadata": {
    "collapsed": false,
    "pycharm": {
     "name": "#%%\n"
    }
   }
  },
  {
   "cell_type": "markdown",
   "source": [
    "# 需求1 求栅格影像的四至坐标"
   ],
   "metadata": {
    "collapsed": false,
    "pycharm": {
     "name": "#%% md\n"
    }
   }
  },
  {
   "cell_type": "code",
   "execution_count": 73,
   "outputs": [],
   "source": [
    "extend = dataset.GetGeoTransform()\n",
    "rX = dataset.RasterXSize\n",
    "rY = dataset.RasterYSize"
   ],
   "metadata": {
    "collapsed": false,
    "pycharm": {
     "name": "#%%\n"
    }
   }
  },
  {
   "cell_type": "code",
   "execution_count": 74,
   "outputs": [
    {
     "data": {
      "text/plain": "(133.33127823557064, 47.181045857940276)"
     },
     "execution_count": 74,
     "metadata": {},
     "output_type": "execute_result"
    }
   ],
   "source": [
    "Xp = extend[0] + rX * extend[1] + rX * extend[2]\n",
    "Yp = extend[3] + rY * extend[4] + rY * extend[5]\n",
    "(Xp, Yp)"
   ],
   "metadata": {
    "collapsed": false,
    "pycharm": {
     "name": "#%%\n"
    }
   }
  },
  {
   "cell_type": "code",
   "execution_count": 75,
   "outputs": [
    {
     "data": {
      "text/plain": "(132.91275314469934, 47.43176565373803)"
     },
     "execution_count": 75,
     "metadata": {},
     "output_type": "execute_result"
    }
   ],
   "source": [
    "(extend[0], extend[3])"
   ],
   "metadata": {
    "collapsed": false,
    "pycharm": {
     "name": "#%%\n"
    }
   }
  },
  {
   "cell_type": "markdown",
   "source": [
    "# 需求2 求SHP的四至坐标"
   ],
   "metadata": {
    "collapsed": false,
    "pycharm": {
     "name": "#%% md\n"
    }
   }
  },
  {
   "cell_type": "code",
   "execution_count": 76,
   "outputs": [
    {
     "data": {
      "text/plain": "['AlterFieldDefn',\n 'Clip',\n 'CommitTransaction',\n 'CreateFeature',\n 'CreateField',\n 'CreateFields',\n '... ...',\n '__weakref__',\n '_s',\n 'schema',\n 'this']"
     },
     "execution_count": 76,
     "metadata": {},
     "output_type": "execute_result"
    }
   ],
   "source": [
    "from osgeo import ogr\n",
    "\n",
    "datashp = ogr.Open(r'E:\\Desktop\\SHP\\北京市范围.shp')\n",
    "Ly = datashp.GetLayer(0)\n",
    "dir(Ly)[:6] + ['... ...'] + dir(Ly)[-4:]"
   ],
   "metadata": {
    "collapsed": false,
    "pycharm": {
     "name": "#%%\n"
    }
   }
  },
  {
   "cell_type": "code",
   "execution_count": 77,
   "outputs": [
    {
     "data": {
      "text/plain": "1"
     },
     "execution_count": 77,
     "metadata": {},
     "output_type": "execute_result"
    }
   ],
   "source": [
    "Ly.GetFeatureCount()"
   ],
   "metadata": {
    "collapsed": false,
    "pycharm": {
     "name": "#%%\n"
    }
   }
  },
  {
   "cell_type": "code",
   "execution_count": 78,
   "outputs": [
    {
     "data": {
      "text/plain": "(115.42341095999997, 117.51462503999996, 39.44275803, 41.06081600999998)"
     },
     "execution_count": 78,
     "metadata": {},
     "output_type": "execute_result"
    }
   ],
   "source": [
    "Ly.GetExtent()"
   ],
   "metadata": {
    "collapsed": false,
    "pycharm": {
     "name": "#%%\n"
    }
   }
  },
  {
   "cell_type": "code",
   "execution_count": 79,
   "outputs": [],
   "source": [
    "# Arcgis数据字段计算器计算四至坐标表达式\n",
    "minX = !shape.extent.xmin!\n",
    "\n",
    "maxX = !shape.extent.xmax!\n",
    "\n",
    "minY = !shape.extent.ymin!\n",
    "\n",
    "maxY = !shape.extent.ymax!"
   ],
   "metadata": {
    "collapsed": false,
    "pycharm": {
     "name": "#%%\n"
    }
   }
  },
  {
   "cell_type": "markdown",
   "source": [
    "### 进阶需求 批量读取shp四至"
   ],
   "metadata": {
    "collapsed": false,
    "pycharm": {
     "name": "#%% md\n"
    }
   }
  },
  {
   "cell_type": "code",
   "execution_count": 88,
   "outputs": [],
   "source": [
    "import os\n",
    "\n",
    "path = r'E:\\Desktop\\SHP'\n",
    "files = os.listdir(path)\n",
    "shp = []"
   ],
   "metadata": {
    "collapsed": false,
    "pycharm": {
     "name": "#%%\n"
    }
   }
  },
  {
   "cell_type": "code",
   "execution_count": 89,
   "outputs": [],
   "source": [
    "for file in files:\n",
    "    position = path + '\\\\' + file\n",
    "    if ('.shp' in file) and ('.shp.' not in file):\n",
    "        shp.append(position)"
   ],
   "metadata": {
    "collapsed": false,
    "pycharm": {
     "name": "#%%\n"
    }
   }
  },
  {
   "cell_type": "markdown",
   "source": [
    "## ogr读取shp文件"
   ],
   "metadata": {
    "collapsed": false,
    "pycharm": {
     "name": "#%% md\n"
    }
   }
  },
  {
   "cell_type": "code",
   "execution_count": 90,
   "outputs": [],
   "source": [
    "import numpy as np\n",
    "import pandas as pd\n",
    "\n",
    "datapd = pd.DataFrame(columns=['xmin', 'xmax', 'ymin', 'ymax'])\n",
    "for item in shp:\n",
    "    datashp = ogr.Open(item)\n",
    "    Ly = datashp.GetLayer(0)\n",
    "    indexpd = item.split('\\\\')[-1]\n",
    "    shpName = indexpd\n",
    "    xmin = Ly.GetExtent()[0]\n",
    "    xmax = Ly.GetExtent()[1]\n",
    "    ymin = Ly.GetExtent()[2]\n",
    "    ymax = Ly.GetExtent()[3]\n",
    "    datapd.loc[shpName] = {'xmin': xmin, 'xmax': xmax, 'ymin': ymin, 'ymax': ymax}\n",
    "    # Ly.GetExtent()\n",
    "\n",
    "# frame = pd.read_excel('export_data/shpExtent.xlsx ', 'Sheet1')\n",
    "writer = pd.ExcelWriter(r'./export_data/shpExtent.xlsx')  # 初始化一个writer\n",
    "datapd.to_excel(writer, float_format='%.5f')  # table输出为excel, 传入writer\n",
    "writer.save()  # 保存"
   ],
   "metadata": {
    "collapsed": false,
    "pycharm": {
     "name": "#%%\n"
    }
   }
  },
  {
   "cell_type": "markdown",
   "source": [
    "### 进阶需求2 获取每个shp每个要素的四至范围"
   ],
   "metadata": {
    "collapsed": false,
    "pycharm": {
     "name": "#%% md\n"
    }
   }
  },
  {
   "cell_type": "code",
   "execution_count": null,
   "outputs": [],
   "source": [],
   "metadata": {
    "collapsed": false,
    "pycharm": {
     "name": "#%%\n"
    }
   }
  }
 ],
 "metadata": {
  "kernelspec": {
   "display_name": "Python 3",
   "language": "python",
   "name": "python3"
  },
  "language_info": {
   "codemirror_mode": {
    "name": "ipython",
    "version": 2
   },
   "file_extension": ".py",
   "mimetype": "text/x-python",
   "name": "python",
   "nbconvert_exporter": "python",
   "pygments_lexer": "ipython2",
   "version": "2.7.6"
  }
 },
 "nbformat": 4,
 "nbformat_minor": 0
}