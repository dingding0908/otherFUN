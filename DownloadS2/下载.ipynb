{
 "cells": [
  {
   "cell_type": "code",
   "execution_count": 7,
   "metadata": {
    "collapsed": true,
    "pycharm": {
     "name": "#%%\n"
    }
   },
   "outputs": [],
   "source": [
    "from data_downloader import downloader\n",
    "\n",
    "netrc = downloader.Netrc()\n",
    "netrc.add('scihub.copernicus.eu','dingding0908','dingao1996',overwrite=True)"
   ]
  },
  {
   "cell_type": "code",
   "execution_count": null,
   "outputs": [],
   "source": [
    "#!/usr/bin/env python3\n",
    "from xml.dom.minidom import parse\n",
    "from data_downloader import downloader\n",
    "\n",
    "####################################################################################################\n",
    "#  在此修改输入输出文件路径\n",
    "#########################\n",
    "\n",
    "# 文件输出目录，需确保此文件夹存在\n",
    "folder_out = r'E:\\Desktop\\20221114-1119\\20221114\\tmp'\n",
    "# 第一步下载的包含url的 products.meta4 文件\n",
    "url_file = r'E:\\Downloads\\products (4).meta4'\n",
    "####################################################################################################\n",
    "\n",
    "\n",
    "data = parse(url_file).documentElement\n",
    "urls = [i.childNodes[0].nodeValue for i in data.getElementsByTagName('url')]\n",
    "\n",
    "downloader.download_datas(urls,folder_out)"
   ],
   "metadata": {
    "collapsed": false,
    "pycharm": {
     "name": "#%%\n"
    }
   }
  }
 ],
 "metadata": {
  "kernelspec": {
   "display_name": "Python 3",
   "language": "python",
   "name": "python3"
  },
  "language_info": {
   "codemirror_mode": {
    "name": "ipython",
    "version": 2
   },
   "file_extension": ".py",
   "mimetype": "text/x-python",
   "name": "python",
   "nbconvert_exporter": "python",
   "pygments_lexer": "ipython2",
   "version": "2.7.6"
  }
 },
 "nbformat": 4,
 "nbformat_minor": 0
}