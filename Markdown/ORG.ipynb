{
 "cells": [
  {
   "cell_type": "markdown",
   "metadata": {
    "collapsed": true,
    "pycharm": {
     "name": "#%% md\n"
    }
   },
   "source": [
    "# 导出模块\n",
    "    from osgeo import ogr"
   ]
  },
  {
   "cell_type": "markdown",
   "source": [
    "![ogr数据读取流程](./img/ogr数据读取流程.jpg)>"
   ],
   "metadata": {
    "collapsed": false,
    "pycharm": {
     "name": "#%% md\n"
    }
   }
  },
  {
   "cell_type": "markdown",
   "source": [
    "# 读取数据\n"
   ],
   "metadata": {
    "collapsed": false,
    "pycharm": {
     "name": "#%% md\n"
    }
   }
  },
  {
   "cell_type": "markdown",
   "source": [
    "## OGR的数据驱动\n",
    "driver = ogr.GetDriverByName(‘ESRI Shapefile’)\n",
    "update为0是只读，为1是可写\n",
    "Open(shp文件路径, int update = 0)"
   ],
   "metadata": {
    "collapsed": false,
    "pycharm": {
     "name": "#%% md\n"
    }
   }
  },
  {
   "cell_type": "code",
   "execution_count": 11,
   "outputs": [],
   "source": [
    "from osgeo import ogr\n",
    "\n",
    "inshp = 'E:\\Desktop\\SHP\\全国范围.shp'\n",
    "driver = ogr.GetDriverByName('ESRI Shapefile')\n",
    "datasource = driver.Open(inshp, update=0)\n"
   ],
   "metadata": {
    "collapsed": false,
    "pycharm": {
     "name": "#%%\n"
    }
   }
  },
  {
   "cell_type": "code",
   "execution_count": 12,
   "outputs": [],
   "source": [
    "# D:\\Users\\dell\\anaconda3\\envs\\pro_flask_38\\Lib\\site-packages\\fiona\\drvsupport.py\n",
    "# 所有驱动\n",
    "# 常用的驱动\n",
    "# ESRI：OpenFileGDB、ESRI Shapefile\n",
    "# other：GEOJSON"
   ],
   "metadata": {
    "collapsed": false,
    "pycharm": {
     "name": "#%%\n"
    }
   }
  },
  {
   "cell_type": "code",
   "execution_count": 2,
   "outputs": [
    {
     "ename": "AttributeError",
     "evalue": "'NoneType' object has no attribute 'GetLayer'",
     "output_type": "error",
     "traceback": [
      "\u001B[1;31m---------------------------------------------------------------------------\u001B[0m",
      "\u001B[1;31mAttributeError\u001B[0m                            Traceback (most recent call last)",
      "Cell \u001B[1;32mIn [2], line 5\u001B[0m\n\u001B[0;32m      3\u001B[0m driver \u001B[38;5;241m=\u001B[39m ogr\u001B[38;5;241m.\u001B[39mGetDriverByName(\u001B[38;5;124m'\u001B[39m\u001B[38;5;124mESRIJSON\u001B[39m\u001B[38;5;124m'\u001B[39m)\n\u001B[0;32m      4\u001B[0m datasource1 \u001B[38;5;241m=\u001B[39m driver\u001B[38;5;241m.\u001B[39mOpen(inshp1, update\u001B[38;5;241m=\u001B[39m\u001B[38;5;241m0\u001B[39m)\n\u001B[1;32m----> 5\u001B[0m Ly1 \u001B[38;5;241m=\u001B[39m \u001B[43mdatasource1\u001B[49m\u001B[38;5;241;43m.\u001B[39;49m\u001B[43mGetLayer\u001B[49m(\u001B[38;5;241m0\u001B[39m)\n\u001B[0;32m      6\u001B[0m Ly1\u001B[38;5;241m.\u001B[39mGetFeatureCount()\n",
      "\u001B[1;31mAttributeError\u001B[0m: 'NoneType' object has no attribute 'GetLayer'"
     ]
    }
   ],
   "source": [
    "from osgeo import ogr\n",
    "\n",
    "inshp1 = r'E:\\Documents\\ArcGIS\\新建个人地理数据库.mdb'\n",
    "driver = ogr.GetDriverByName('ESRIJSON')\n",
    "datasource1 = driver.Open(inshp1, update=0)\n",
    "Ly1 = datasource1.GetLayer(0)\n",
    "Ly1.GetFeatureCount()"
   ],
   "metadata": {
    "collapsed": false,
    "pycharm": {
     "name": "#%%\n"
    }
   }
  },
  {
   "cell_type": "code",
   "execution_count": 16,
   "outputs": [
    {
     "name": "stdout",
     "output_type": "stream",
     "text": [
      "图层名： sl_polygon_Project\n",
      "id-->12.0\n",
      "Shape_Length-->12.0\n",
      "Shape_Area-->12.0\n",
      "MULTIPOLYGON (((133.719590500294 47.3648576599817,133.719596200182 47.3648000603517,133.719606099894 47.3647676101979,133.719609500222 47.3647101400699,133.719612100155 47.3646511995541,133.71961450044 47.3645906897254,133.719616200154 47.3645319200804,133.719617499671 47.3644813000707,133.719618800087 47.3644337296543,133.719619399933 47.3643839199318,133.719620599626 47.364334430367,133.719621300196 47.3642844398812,133.719622800261 47.3642248896267,133.719624199603 47.3641663304224,133.71962530037 47.3641059797733,133.719626599887 47.3640453997977,133.719628000128 47.3639869898806,133.719629099996 47.3639276203893,133.719630199864 47.3638770300572,133.719632000302 47.3638189897605,133.719635100257 47.363758970061,133.719637200169 47.3637001095847,133.719638100388 47.3636401096703,133.719639899927 47.3635816898607,133.719643099706 47.3635225703803,133.719644199574 47.3634620596522,133.719646900232 47.3633832001038,133.719649099968 47.3633233099064,133.719650000187 47.3632646598709,133.719649500165 47.3631958700054,133.719653399615 47.3630969799086,133.719655600251 47.3630071999207,133.719657799987 47.3629187401341,133.719660200271 47.3627986197964,133.719662300183 47.3626793403227,133.719663999897 47.3625718095619,133.719664499919 47.3624525696583,133.719668500093 47.3623127299369,133.719672199894 47.3621558903747,133.71967279974 47.3620166298152,133.719675500398 47.3619149797061,133.719674199981 47.3618958997387,133.719679200199 47.3617696901072,133.719684700438 47.3616401502946,133.719690599976 47.3614723498235,133.719697200083 47.3613045799293,133.719708699685 47.3611460802229,133.719710799596 47.3610370197192,133.719718000449 47.3609879303518,133.719726099723 47.3609286696782,133.719737799873 47.360860190078,133.719760999624 47.3607609303608,133.719786999856 47.3607051599471,133.719791699701 47.3606540399157,133.71979970005 47.3606040503292,133.719819799845 47.36055498974,133.719833300433 47.3604850496446,133.719844600386 47.3604671603765,133.719849800252 47.3604281299002,133.719881200001 47.360353419813,133.719896199754 47.3602807197054,133.719921100119 47.3602323399012,133.71993030016 47.3601830895555,133.719953900108 47.3601240501146,133.719977298609 47.360051277162,133.719994700446 47.3599958296041,133.719997099831 47.3599365401523,133.720012599606 47.3598800295984,133.720026500391 47.3598193003357,133.720086100109 47.3597605603682,133.720130399699 47.359693650081,133.720170199993 47.3596241596455,133.720214999605 47.3595469098793,133.720235899796 47.359479040018,133.720246799551 47.3594405797104,133.720252100142 47.3594108697838,133.720259899942 47.3593906000164,133.720273600178 47.3593721001102,133.720297399776 47.3593530399279,133.720342499761 47.3593530201429,133.720369599862 47.3592947100502,133.720413500154 47.3592375097181,133.720453500097 47.3591767903479,133.720506100409 47.3590899403437,133.720559299667 47.3590034401748,133.720600400378 47.3589139299827,133.720638099861 47.3588487104166,133.720629800039 47.3588263002683,133.720615900153 47.3588062301499,133.720638199685 47.3587773197185,133.720651800098 47.358768340011,133.720713200253 47.358769510026,133.720738699564 47.3586906100081,133.720784199747 47.3586529204176,133.720804799565 47.358593260446,133.720848900405 47.3585252601833,133.720892799799 47.3584364703464,133.720924200446 47.3584205901586,133.720935600223 47.3583603600183,133.720934700004 47.3582992395515,133.720950799626 47.3582516601419,133.721057899613 47.3581649297471,133.721127899963 47.358069059566,133.721172499926 47.3579712198746,133.721219799647 47.3578934700867,133.721269999674 47.3578247800457,133.721291100413 47.3577464699816,133.721296999951 47.3576988303176,133.721323000183 47.3576616101719,133.721400099763 47.3576023000358,133.721456600424 47.3574928600192,133.72151730001 47.357385730355,133.721575000363 47.3572793102541,133.721635899598 47.3572221297071,133.7216355003 47.3571923100635,133.721635899598 47.3571332301531,133.721635899598 47.3571332301531,133.712943045412 47.3568907780506,133.712935900317 47.3569983996426,133.712902600306 47.3571397897912,133.712897500263 47.3572062396267,133.712891900199 47.3573298196474,133.712888300223 47.3574312503225,133.712886800157 47.3576220796739,133.71287469981 47.3577765099586,133.712868900097 47.3579447097276,133.712853900344 47.3581845897758,133.712845599622 47.3583432099911,133.712847300236 47.3584523703192,133.712840700129 47.3586199801345,133.712834500218 47.358788240158,133.712832900329 47.3589069503623,133.712829800373 47.3589665302944,133.712829400176 47.3589957500918,133.712823999761 47.3591100401396,133.712818200048 47.3591819398527,133.712816299786 47.3592631097536,133.712810400248 47.3594223100301,133.712805300206 47.3595853701869,133.71279619999 47.3598769898977,133.712794000254 47.3600640798777,133.712777700084 47.3603815298498,133.712772699866 47.360647849898,133.712765699561 47.3608861696264,133.712760800067 47.3610552498295,133.712756700069 47.361317450094,133.712750500158 47.3615433304319,133.712743800226 47.3616224597762,133.712730500187 47.3618521604243,133.712718100366 47.362080059735,133.712700399956 47.36232231039,133.712692000309 47.3625487698898,133.712690100047 47.3626263802831,133.712676999656 47.3629486497097,133.712665099858 47.3630837203385,133.712656300014 47.3633304199282,133.712645400259 47.3635868798348,133.712639499822 47.3638262499687,133.712635899845 47.3640033197282,133.712673500403 47.3640445103705,133.712685199653 47.3640717804427,133.712682800268 47.3641021801475,133.712672100162 47.3641233995965,133.712640900063 47.3641541797136,133.71262500009 47.364202039711,133.712610100161 47.3644581695673,133.71261212453 47.3644777558517,133.712611299853 47.3646553103446,133.719590500294 47.3648576599817)))\n",
      "图层名： Clip\n",
      "图层名： clipp\n",
      "图层名： clipl\n",
      "图层名： clipl1\n"
     ]
    },
    {
     "ename": "KeyError",
     "evalue": "'Illegal field requested in GetField()'",
     "output_type": "error",
     "traceback": [
      "\u001B[1;31m---------------------------------------------------------------------------\u001B[0m",
      "\u001B[1;31mKeyError\u001B[0m                                  Traceback (most recent call last)",
      "Cell \u001B[1;32mIn [16], line 21\u001B[0m\n\u001B[0;32m     18\u001B[0m keys \u001B[38;5;241m=\u001B[39m feature\u001B[38;5;241m.\u001B[39mkeys()\n\u001B[0;32m     19\u001B[0m \u001B[38;5;28;01mfor\u001B[39;00m key \u001B[38;5;129;01min\u001B[39;00m keys:\n\u001B[0;32m     20\u001B[0m \t\u001B[38;5;66;03m# 要素字段值\u001B[39;00m\n\u001B[1;32m---> 21\u001B[0m \tvalue \u001B[38;5;241m=\u001B[39m \u001B[43mfeature\u001B[49m\u001B[38;5;241;43m.\u001B[39;49m\u001B[43mGetField\u001B[49m\u001B[43m(\u001B[49m\u001B[38;5;124;43m'\u001B[39;49m\u001B[38;5;124;43mid\u001B[39;49m\u001B[38;5;124;43m'\u001B[39;49m\u001B[43m)\u001B[49m\n\u001B[0;32m     22\u001B[0m \t\u001B[38;5;28mprint\u001B[39m(\u001B[38;5;124m\"\u001B[39m\u001B[38;5;132;01m{}\u001B[39;00m\u001B[38;5;124m-->\u001B[39m\u001B[38;5;132;01m{}\u001B[39;00m\u001B[38;5;124m\"\u001B[39m\u001B[38;5;241m.\u001B[39mformat(key, value))\n\u001B[0;32m     23\u001B[0m \u001B[38;5;66;03m# 图形字段\u001B[39;00m\n",
      "File \u001B[1;32mD:\\Users\\dell\\anaconda3\\envs\\pro_flask_38\\lib\\site-packages\\osgeo\\ogr.py:4727\u001B[0m, in \u001B[0;36mFeature.GetField\u001B[1;34m(self, fld_index)\u001B[0m\n\u001B[0;32m   4725\u001B[0m     fld_index \u001B[38;5;241m=\u001B[39m \u001B[38;5;28mself\u001B[39m\u001B[38;5;241m.\u001B[39mGetFieldIndex(fld_index)\n\u001B[0;32m   4726\u001B[0m \u001B[38;5;28;01mif\u001B[39;00m (fld_index \u001B[38;5;241m<\u001B[39m \u001B[38;5;241m0\u001B[39m) \u001B[38;5;129;01mor\u001B[39;00m (fld_index \u001B[38;5;241m>\u001B[39m \u001B[38;5;28mself\u001B[39m\u001B[38;5;241m.\u001B[39mGetFieldCount()):\n\u001B[1;32m-> 4727\u001B[0m     \u001B[38;5;28;01mraise\u001B[39;00m \u001B[38;5;167;01mKeyError\u001B[39;00m(\u001B[38;5;124m\"\u001B[39m\u001B[38;5;124mIllegal field requested in GetField()\u001B[39m\u001B[38;5;124m\"\u001B[39m)\n\u001B[0;32m   4728\u001B[0m \u001B[38;5;28;01mif\u001B[39;00m \u001B[38;5;129;01mnot\u001B[39;00m (\u001B[38;5;28mself\u001B[39m\u001B[38;5;241m.\u001B[39mIsFieldSet(fld_index)) \u001B[38;5;129;01mor\u001B[39;00m \u001B[38;5;28mself\u001B[39m\u001B[38;5;241m.\u001B[39mIsFieldNull(fld_index):\n\u001B[0;32m   4729\u001B[0m     \u001B[38;5;28;01mreturn\u001B[39;00m \u001B[38;5;28;01mNone\u001B[39;00m\n",
      "\u001B[1;31mKeyError\u001B[0m: 'Illegal field requested in GetField()'"
     ]
    }
   ],
   "source": [
    "import sys\n",
    "from osgeo import ogr\n",
    "\n",
    "# GDB文件路径\n",
    "file_name = 'E:\\Documents\\ArcGIS\\Default.gdb'\n",
    "# 加载OpenFileGDB驱动\n",
    "driver = ogr.GetDriverByName('OpenFileGDB')\n",
    "data_source = driver.Open(file_name, 0)\n",
    "if data_source is None:\n",
    "    print(\"文件【%s】无法打开\", file_name)\n",
    "    sys.exit(-1)\n",
    "# 遍历各图层\n",
    "for index in range(data_source.GetLayerCount()):\n",
    "    layer = data_source.GetLayer(index)\n",
    "    print(\"图层名：\", layer.GetName())\n",
    "    for feature in layer:\n",
    "        # 要素字段名集合\n",
    "        keys = feature.keys()\n",
    "        for key in keys:\n",
    "            # 要素字段值\n",
    "            value = feature.GetField('id')\n",
    "            print(\"{}-->{}\".format(key, value))\n",
    "        # 图形字段\n",
    "        geometry = feature.geometry()\n",
    "        print(geometry)\n",
    "del data_source\n"
   ],
   "metadata": {
    "collapsed": false,
    "pycharm": {
     "name": "#%%\n"
    }
   }
  },
  {
   "cell_type": "code",
   "execution_count": 9,
   "outputs": [
    {
     "data": {
      "text/plain": "['CommitTransaction',\n 'CopyLayer',\n 'CreateLayer',\n 'DeleteLayer',\n 'Dereference',\n 'Destroy',\n 'ExecuteSQL',\n 'FlushCache',\n 'GetDescription',\n 'GetDriver',\n 'GetLayer',\n 'GetLayerByIndex',\n 'GetLayerByName',\n 'GetLayerCount',\n 'GetMetadata',\n 'GetMetadataDomainList',\n 'GetMetadataItem',\n 'GetMetadata_Dict',\n 'GetMetadata_List',\n 'GetName',\n 'GetRefCount',\n 'GetStyleTable',\n 'GetSummaryRefCount',\n 'Reference',\n 'Release',\n 'ReleaseResultSet',\n 'RollbackTransaction',\n 'SetDescription',\n 'SetMetadata',\n 'SetMetadataItem',\n 'SetStyleTable',\n 'StartTransaction',\n 'SyncToDisk',\n 'TestCapability',\n '__class__',\n '__del__',\n '__delattr__',\n '__dict__',\n '__dir__',\n '__doc__',\n '__eq__',\n '__format__',\n '__ge__',\n '__getattr__',\n '__getattribute__',\n '__getitem__',\n '__gt__',\n '__hash__',\n '__init__',\n '__init_subclass__',\n '__le__',\n '__len__',\n '__lt__',\n '__module__',\n '__ne__',\n '__new__',\n '__reduce__',\n '__reduce_ex__',\n '__repr__',\n '__setattr__',\n '__sizeof__',\n '__str__',\n '__subclasshook__',\n '__swig_destroy__',\n '__swig_getmethods__',\n '__swig_setmethods__',\n '__weakref__',\n '_s',\n 'name',\n 'this']"
     },
     "execution_count": 9,
     "metadata": {},
     "output_type": "execute_result"
    }
   ],
   "source": [
    "# 使用Python的内省函数dir()看一下datasource有哪些可用的方法\n",
    "dir(datasource)\n",
    "# dir(datasource)[:10]"
   ],
   "metadata": {
    "collapsed": false,
    "pycharm": {
     "name": "#%%\n"
    }
   }
  },
  {
   "cell_type": "markdown",
   "source": [
    "## Layer方法集合如下"
   ],
   "metadata": {
    "collapsed": false,
    "pycharm": {
     "name": "#%% md\n"
    }
   }
  },
  {
   "cell_type": "code",
   "execution_count": 10,
   "outputs": [
    {
     "data": {
      "text/plain": "['AlterFieldDefn',\n 'Clip',\n 'CommitTransaction',\n 'CreateFeature',\n 'CreateField',\n 'CreateFields',\n '... ...',\n '__weakref__',\n '_s',\n 'schema',\n 'this']"
     },
     "execution_count": 10,
     "metadata": {},
     "output_type": "execute_result"
    }
   ],
   "source": [
    "layer = datasource.GetLayer(0)  #获取图层\n",
    "dir(layer)[:6] + ['... ...'] + dir(layer)[-4:]"
   ],
   "metadata": {
    "collapsed": false,
    "pycharm": {
     "name": "#%%\n"
    }
   }
  },
  {
   "cell_type": "markdown",
   "source": [
    "'AlterFieldDefn',\n",
    " 'Clip',\n",
    " 'CommitTransaction',\n",
    " 'CreateFeature',\n",
    " 'CreateField',\n",
    " 'CreateFields',\n",
    " '__weakref__',\n",
    " '_s',\n",
    " 'schema',\n",
    " 'this'"
   ],
   "metadata": {
    "collapsed": false,
    "pycharm": {
     "name": "#%% md\n"
    }
   }
  },
  {
   "cell_type": "markdown",
   "source": [
    "查看图层要素"
   ],
   "metadata": {
    "collapsed": false,
    "pycharm": {
     "name": "#%% md\n"
    }
   }
  },
  {
   "cell_type": "code",
   "execution_count": 11,
   "outputs": [
    {
     "data": {
      "text/plain": "1"
     },
     "execution_count": 11,
     "metadata": {},
     "output_type": "execute_result"
    }
   ],
   "source": [
    "layer.GetFeatureCount()\n",
    "#1"
   ],
   "metadata": {
    "collapsed": false,
    "pycharm": {
     "name": "#%%\n"
    }
   }
  },
  {
   "cell_type": "code",
   "execution_count": 12,
   "outputs": [
    {
     "data": {
      "text/plain": "(73.50235487999994, 135.09566999999996, 3.8370310200000484, 53.56362401999999)"
     },
     "execution_count": 12,
     "metadata": {},
     "output_type": "execute_result"
    }
   ],
   "source": [
    "# 查看图层范围\n",
    "layer.GetExtent()"
   ],
   "metadata": {
    "collapsed": false,
    "pycharm": {
     "name": "#%%\n"
    }
   }
  },
  {
   "cell_type": "code",
   "execution_count": 13,
   "outputs": [
    {
     "name": "stdout",
     "output_type": "stream",
     "text": [
      "Id 6 0 0\n"
     ]
    }
   ],
   "source": [
    "# 查看整个表的结构及各字段名称等信息\n",
    "layerdef = layer.GetLayerDefn()\n",
    "for i in range(layerdef.GetFieldCount()):\n",
    "    defn = layerdef.GetFieldDefn(i)\n",
    "    print(defn.GetName(), defn.GetWidth(), defn.GetType(), defn.GetPrecision())"
   ],
   "metadata": {
    "collapsed": false,
    "pycharm": {
     "name": "#%%\n"
    }
   }
  },
  {
   "cell_type": "code",
   "execution_count": 15,
   "outputs": [
    {
     "data": {
      "text/plain": "['Id']"
     },
     "execution_count": 15,
     "metadata": {},
     "output_type": "execute_result"
    }
   ],
   "source": [
    "layer.ResetReading()\n",
    "feat = layer.GetFeature(0)\n",
    "feat.keys()"
   ],
   "metadata": {
    "collapsed": false,
    "pycharm": {
     "name": "#%%\n"
    }
   }
  },
  {
   "cell_type": "markdown",
   "source": [
    "feature的有关方法：\n",
    "’Clone’, ’Destroy’, ’DumpReadable’,\n",
    "’Equal’, ’GetDefnRef’, ’GetFID’,\n",
    "’GetField’ , ’GetFieldAsDouble’, ’GetFieldAsInteger’,\n",
    "’GetFieldAsString’, ’GetFieldCount’, ’GetFieldDefnRef’,\n",
    "’GetFieldIndex’, ’GetGeometryRef’, ’GetStyleString’,\n",
    "’IsFieldSet’, ’SetFID’, ’SetField’, ’SetFrom’,\n",
    "’SetGeometry’, ’SetGeometryDirectly’,\n",
    "’SetStyleString’, ’UnsetField’。\n",
    "Field是属性操作。Geometry是形状操作"
   ],
   "metadata": {
    "collapsed": false,
    "pycharm": {
     "name": "#%% md\n"
    }
   }
  },
  {
   "cell_type": "code",
   "execution_count": 18,
   "outputs": [
    {
     "data": {
      "text/plain": "'MULTIPOLYGON'"
     },
     "execution_count": 18,
     "metadata": {},
     "output_type": "execute_result"
    }
   ],
   "source": [
    "# 要素的几何形状(Geometry)\n",
    "geom = feat.GetGeometryRef()\n",
    "geom.GetGeometryName()"
   ],
   "metadata": {
    "collapsed": false,
    "pycharm": {
     "name": "#%%\n"
    }
   }
  },
  {
   "cell_type": "code",
   "execution_count": 19,
   "outputs": [
    {
     "data": {
      "text/plain": "1934"
     },
     "execution_count": 19,
     "metadata": {},
     "output_type": "execute_result"
    }
   ],
   "source": [
    "geom.GetGeometryCount()"
   ],
   "metadata": {
    "collapsed": false,
    "pycharm": {
     "name": "#%%\n"
    }
   }
  },
  {
   "cell_type": "code",
   "execution_count": 20,
   "outputs": [
    {
     "data": {
      "text/plain": "0"
     },
     "execution_count": 20,
     "metadata": {},
     "output_type": "execute_result"
    }
   ],
   "source": [
    "geom.GetPointCount()"
   ],
   "metadata": {
    "collapsed": false,
    "pycharm": {
     "name": "#%%\n"
    }
   }
  },
  {
   "cell_type": "code",
   "execution_count": 29,
   "outputs": [
    {
     "data": {
      "text/plain": "'MULTIPOLYGON (((112.04826012 3.83732901,112.01807484 3.83703102,112.01442588 3.838'"
     },
     "execution_count": 29,
     "metadata": {},
     "output_type": "execute_result"
    }
   ],
   "source": [
    "geom.ExportToWkt()[:82]"
   ],
   "metadata": {
    "collapsed": false,
    "pycharm": {
     "name": "#%%\n"
    }
   }
  },
  {
   "cell_type": "markdown",
   "source": [
    "# 创建数据\n"
   ],
   "metadata": {
    "collapsed": false,
    "pycharm": {
     "name": "#%% md\n"
    }
   }
  },
  {
   "cell_type": "markdown",
   "source": [
    "# 保存数据"
   ],
   "metadata": {
    "collapsed": false,
    "pycharm": {
     "name": "#%% md\n"
    }
   }
  },
  {
   "cell_type": "code",
   "execution_count": 1,
   "outputs": [
    {
     "ename": "NameError",
     "evalue": "name 'feat' is not defined",
     "output_type": "error",
     "traceback": [
      "\u001B[1;31m---------------------------------------------------------------------------\u001B[0m",
      "\u001B[1;31mNameError\u001B[0m                                 Traceback (most recent call last)",
      "Cell \u001B[1;32mIn [1], line 2\u001B[0m\n\u001B[0;32m      1\u001B[0m \u001B[38;5;66;03m# 关闭内存缓存数据\u001B[39;00m\n\u001B[1;32m----> 2\u001B[0m \u001B[43mfeat\u001B[49m\u001B[38;5;241m.\u001B[39mDestroy()\n\u001B[0;32m      3\u001B[0m \u001B[38;5;66;03m#关闭文件数据\u001B[39;00m\n\u001B[0;32m      4\u001B[0m datasource\u001B[38;5;241m.\u001B[39mDestroy()\n",
      "\u001B[1;31mNameError\u001B[0m: name 'feat' is not defined"
     ]
    }
   ],
   "source": [
    "# 关闭内存缓存数据\n",
    "feat.Destroy()\n"
   ],
   "metadata": {
    "collapsed": false,
    "pycharm": {
     "name": "#%%\n"
    }
   }
  },
  {
   "cell_type": "code",
   "execution_count": 2,
   "outputs": [
    {
     "ename": "NameError",
     "evalue": "name 'datasource' is not defined",
     "output_type": "error",
     "traceback": [
      "\u001B[1;31m---------------------------------------------------------------------------\u001B[0m",
      "\u001B[1;31mNameError\u001B[0m                                 Traceback (most recent call last)",
      "Cell \u001B[1;32mIn [2], line 2\u001B[0m\n\u001B[0;32m      1\u001B[0m \u001B[38;5;66;03m#关闭文件数据\u001B[39;00m\n\u001B[1;32m----> 2\u001B[0m \u001B[43mdatasource\u001B[49m\u001B[38;5;241m.\u001B[39mDestroy()\n",
      "\u001B[1;31mNameError\u001B[0m: name 'datasource' is not defined"
     ]
    }
   ],
   "source": [
    "#关d闭文件数据\n",
    "datasource.Destroy()"
   ],
   "metadata": {
    "collapsed": false,
    "pycharm": {
     "name": "#%%\n"
    }
   }
  },
  {
   "cell_type": "markdown",
   "source": [
    "# 空间分析"
   ],
   "metadata": {
    "collapsed": false,
    "pycharm": {
     "name": "#%% md\n"
    }
   }
  },
  {
   "cell_type": "code",
   "execution_count": null,
   "outputs": [],
   "source": [
    "# 矢量空间坐标系\n",
    "# 图层范围\n",
    "# >>> layer = datasource.GetLayer(0)\n",
    "# >>> layer.GetSpatialRef()\n",
    "# >>> layer.GetExtent()\n",
    "#要素范围\n",
    "# >>> feature = layer.GetFeature(0)\n",
    "# >>> geom = feature.GetGeometryRef()\n",
    "# >>> geom.GetEnvelope()"
   ],
   "metadata": {
    "collapsed": false,
    "pycharm": {
     "name": "#%%\n"
    }
   }
  },
  {
   "cell_type": "code",
   "execution_count": null,
   "outputs": [],
   "source": [
    "# >>> geom.GetSpatialReference()\n",
    "# >>> dir(geom)[:6] + ['... ...'] + dir(geom)[-3:]"
   ],
   "metadata": {
    "collapsed": false,
    "pycharm": {
     "name": "#%%\n"
    }
   }
  },
  {
   "cell_type": "markdown",
   "source": [
    "\n",
    "# Fiona"
   ],
   "metadata": {
    "collapsed": false,
    "pycharm": {
     "name": "#%% md\n"
    }
   }
  }
 ],
 "metadata": {
  "kernelspec": {
   "display_name": "Python 3",
   "language": "python",
   "name": "python3"
  },
  "language_info": {
   "codemirror_mode": {
    "name": "ipython",
    "version": 2
   },
   "file_extension": ".py",
   "mimetype": "text/x-python",
   "name": "python",
   "nbconvert_exporter": "python",
   "pygments_lexer": "ipython2",
   "version": "2.7.6"
  }
 },
 "nbformat": 4,
 "nbformat_minor": 0
}