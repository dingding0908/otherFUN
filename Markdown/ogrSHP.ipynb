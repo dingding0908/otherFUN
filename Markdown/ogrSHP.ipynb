{
 "cells": [
  {
   "cell_type": "code",
   "execution_count": 1,
   "metadata": {
    "collapsed": true
   },
   "outputs": [],
   "source": [
    "from osgeo import ogr\n",
    "import os"
   ]
  },
  {
   "cell_type": "code",
   "execution_count": null,
   "outputs": [],
   "source": [
    "#获取驱动\n",
    "driver = ogr.GetDriverByName('ESRI shapefile')\n",
    "#创建shp，\n",
    "out_shp = r'./SHP/test1110.shp'\n",
    "ds = driver.CreateDataSource(out_shp)\n",
    "dir(driver)\n",
    "\n",
    "# 'CopyDataSource',\n",
    "#  'CreateDataSource',\n",
    "#  'DeleteDataSource',\n",
    "#  'Deregister',\n",
    "#  'GetDescription',\n",
    "#  'GetMetadata',\n",
    "#  'GetMetadataDomainList',\n",
    "#  'GetMetadataItem',\n",
    "#  'GetMetadata_Dict',\n",
    "#  'GetMetadata_List',\n",
    "#  'GetName',\n",
    "#  'Open',\n",
    "#  'Register',\n",
    "#  'SetDescription',\n",
    "#  'SetMetadata',\n",
    "#  'SetMetadataItem',\n",
    "#  'TestCapability',\n",
    "#  '__class__',\n",
    "#  '__delattr__',\n",
    "#  '__dict__',\n",
    "#  '__dir__',\n",
    "#  '__doc__',\n",
    "#  '__eq__',\n",
    "#  '__format__',\n",
    "#  '__ge__',\n",
    "#  '__getattr__',\n",
    "#  '__getattribute__',\n",
    "#  '__gt__',\n",
    "#  '__hash__',\n",
    "#  '__init__',\n",
    "#  '__init_subclass__',\n",
    "#  '__le__',\n",
    "#  '__lt__',\n",
    "#  '__module__',\n",
    "#  '__ne__',\n",
    "#  '__new__',\n",
    "#  '__reduce__',\n",
    "#  '__reduce_ex__',\n",
    "#  '__repr__',\n",
    "#  '__setattr__',\n",
    "#  '__sizeof__',\n",
    "#  '__str__',\n",
    "#  '__subclasshook__',\n",
    "#  '__swig_getmethods__',\n",
    "#  '__swig_setmethods__',\n",
    "#  '__weakref__',\n",
    "#  '_s',\n",
    "#  'name',\n",
    "#  'this'"
   ],
   "metadata": {
    "collapsed": false,
    "pycharm": {
     "name": "#%%\n",
     "is_executing": true
    }
   }
  },
  {
   "cell_type": "code",
   "execution_count": null,
   "outputs": [],
   "source": [
    "dir(ds)\n",
    "#\n",
    "# 'CommitTransaction',\n",
    "#  'CopyLayer',\n",
    "#  'CreateLayer',\n",
    "#  'DeleteLayer',\n",
    "#  'Dereference',\n",
    "#  'Destroy',\n",
    "#  'ExecuteSQL',\n",
    "#  'FlushCache',\n",
    "#  'GetDescription',\n",
    "#  'GetDriver',\n",
    "#  'GetLayer',\n",
    "#  'GetLayerByIndex',\n",
    "#  'GetLayerByName',\n",
    "#  'GetLayerCount',\n",
    "#  'GetMetadata',\n",
    "#  'GetMetadataDomainList',\n",
    "#  'GetMetadataItem',\n",
    "#  'GetMetadata_Dict',\n",
    "#  'GetMetadata_List',\n",
    "#  'GetName',\n",
    "#  'GetRefCount',\n",
    "#  'GetStyleTable',\n",
    "#  'GetSummaryRefCount',\n",
    "#  'Reference',\n",
    "#  'Release',\n",
    "#  'ReleaseResultSet',\n",
    "#  'RollbackTransaction',\n",
    "#  'SetDescription',\n",
    "#  'SetMetadata',\n",
    "#  'SetMetadataItem',\n",
    "#  'SetStyleTable',\n",
    "#  'StartTransaction',\n",
    "#  'SyncToDisk',\n",
    "#  'TestCapability',\n",
    "#  '__class__',\n",
    "#  '__del__',\n",
    "#  '__delattr__',\n",
    "#  '__dict__',\n",
    "#  '__dir__',\n",
    "#  '__doc__',\n",
    "#  '__eq__',\n",
    "#  '__format__',\n",
    "#  '__ge__',\n",
    "#  '__getattr__',\n",
    "#  '__getattribute__',\n",
    "#  '__getitem__',\n",
    "#  '__gt__',\n",
    "#  '__hash__',\n",
    "#  '__init__',\n",
    "#  '__init_subclass__',\n",
    "#  '__le__',\n",
    "#  '__len__',\n",
    "#  '__lt__',\n",
    "#  '__module__',\n",
    "#  '__ne__',\n",
    "#  '__new__',\n",
    "#  '__reduce__',\n",
    "#  '__reduce_ex__',\n",
    "#  '__repr__',\n",
    "#  '__setattr__',\n",
    "#  '__sizeof__',\n",
    "#  '__str__',\n",
    "#  '__subclasshook__',\n",
    "#  '__swig_destroy__',\n",
    "#  '__swig_getmethods__',\n",
    "#  '__swig_setmethods__',\n",
    "#  '__weakref__',\n",
    "#  '_s',\n",
    "#  'name',\n",
    "# 'this'"
   ],
   "metadata": {
    "collapsed": false,
    "pycharm": {
     "name": "#%%\n"
    }
   }
  },
  {
   "cell_type": "code",
   "execution_count": 4,
   "outputs": [
    {
     "data": {
      "text/plain": "<osgeo.ogr.Layer; proxy of <Swig Object of type 'OGRLayerShadow *' at 0x000001EF7C428F60> >"
     },
     "execution_count": 4,
     "metadata": {},
     "output_type": "execute_result"
    }
   ],
   "source": [
    "#创建图层\n",
    "layer = ds.CreateLayer('test', geom_type=ogr.wkbPoint)\n",
    "layer"
   ],
   "metadata": {
    "collapsed": false,
    "pycharm": {
     "name": "#%%\n"
    }
   }
  },
  {
   "cell_type": "code",
   "execution_count": null,
   "outputs": [],
   "source": [
    "#添加字段\n",
    "#设置字段属性\n",
    "# ogr.OFTString 字符串\n",
    "#ogr.wkb25DBit\n",
    "# 几何要素类类型\n",
    "#ogr.wkbPoint 点\n",
    "# ogr.wkbMultiPoint\n",
    "# ogr.wkbPointM\n",
    "#\n",
    "# ogr.wkbLineString\n",
    "# ogr.wkbMultiLineString\n",
    "# ogr.wkbCircularString\n",
    "#\n",
    "# ogr.wkbPolygon\n",
    "# ogr.wkbMultiPolygon\n",
    "# ogr.wkbCurvePolygon\n",
    "#\n",
    "# ogr.wkbGeometryCollection\n",
    "# ogr.wkbTIN\n",
    "#\n",
    "#\n",
    "# # 数值类型\n",
    "# ogr.OFTInteger\n",
    "# ogr.OFTInteger64\n",
    "# ogr.OFTIntegerList\n",
    "# ogr.OFTReal\n",
    "# ogr.OFTRealList\n",
    "# ogr.OFTString\n",
    "# ogr.OFTStringList\n",
    "#\n",
    "# # 时间类型\n",
    "# ogr.OFTDate\n",
    "# ogr.OFTTime\n",
    "# ogr.OFTDateTime"
   ],
   "metadata": {
    "collapsed": false,
    "pycharm": {
     "name": "#%%\n"
    }
   }
  },
  {
   "cell_type": "code",
   "execution_count": 5,
   "outputs": [],
   "source": [
    "\n",
    "fieldDefn1 = ogr.FieldDefn('id', ogr.OFTString)\n",
    "fieldDefn1.SetWidth(4)"
   ],
   "metadata": {
    "collapsed": false,
    "pycharm": {
     "name": "#%%\n"
    }
   }
  },
  {
   "cell_type": "code",
   "execution_count": 6,
   "outputs": [
    {
     "data": {
      "text/plain": "0"
     },
     "execution_count": 6,
     "metadata": {},
     "output_type": "execute_result"
    }
   ],
   "source": [
    "layer.CreateField(fieldDefn1)"
   ],
   "metadata": {
    "collapsed": false,
    "pycharm": {
     "name": "#%%\n"
    }
   }
  },
  {
   "cell_type": "code",
   "execution_count": 10,
   "outputs": [
    {
     "data": {
      "text/plain": "<osgeo.ogr.Feature; proxy of <Swig Object of type 'OGRFeatureShadow *' at 0x000001EF79D353C0> >"
     },
     "execution_count": 10,
     "metadata": {},
     "output_type": "execute_result"
    }
   ],
   "source": [
    "#添加新要素\n",
    "featureDefn1 = layer.GetLayerDefn()\n",
    "feature = ogr.Feature(featureDefn1)"
   ],
   "metadata": {
    "collapsed": false,
    "pycharm": {
     "name": "#%%\n"
    }
   }
  },
  {
   "cell_type": "code",
   "execution_count": 13,
   "outputs": [
    {
     "data": {
      "text/plain": "0"
     },
     "execution_count": 13,
     "metadata": {},
     "output_type": "execute_result"
    }
   ],
   "source": [
    "#设置要素\n",
    "point = ogr.Geometry(ogr.wkbPoint)\n",
    "point.SetPoint(0, 123, 123)\n",
    "feature.SetGeometry(point)\n",
    "feature.SetField('id', 23)\n",
    "#传入要素到图层\n",
    "layer.CreateFeature(feature)"
   ],
   "metadata": {
    "collapsed": false,
    "pycharm": {
     "name": "#%%\n"
    }
   }
  },
  {
   "cell_type": "code",
   "execution_count": 1,
   "outputs": [
    {
     "ename": "NameError",
     "evalue": "name 'ds' is not defined",
     "output_type": "error",
     "traceback": [
      "\u001B[1;31m---------------------------------------------------------------------------\u001B[0m",
      "\u001B[1;31mNameError\u001B[0m                                 Traceback (most recent call last)",
      "Cell \u001B[1;32mIn [1], line 1\u001B[0m\n\u001B[1;32m----> 1\u001B[0m \u001B[43mds\u001B[49m\u001B[38;5;241m.\u001B[39mDestroy()\n",
      "\u001B[1;31mNameError\u001B[0m: name 'ds' is not defined"
     ]
    }
   ],
   "source": [
    "ds.Destroy()"
   ],
   "metadata": {
    "collapsed": false,
    "pycharm": {
     "name": "#%%\n"
    }
   }
  },
  {
   "cell_type": "code",
   "execution_count": null,
   "outputs": [],
   "source": [],
   "metadata": {
    "collapsed": false,
    "pycharm": {
     "name": "#%%\n"
    }
   }
  },
  {
   "cell_type": "code",
   "execution_count": 2,
   "outputs": [],
   "source": [],
   "metadata": {
    "collapsed": false,
    "pycharm": {
     "name": "#%%\n"
    }
   }
  },
  {
   "cell_type": "code",
   "execution_count": null,
   "outputs": [],
   "source": [],
   "metadata": {
    "collapsed": false,
    "pycharm": {
     "name": "#%%\n"
    }
   }
  }
 ],
 "metadata": {
  "kernelspec": {
   "display_name": "Python 3",
   "language": "python",
   "name": "python3"
  },
  "language_info": {
   "codemirror_mode": {
    "name": "ipython",
    "version": 2
   },
   "file_extension": ".py",
   "mimetype": "text/x-python",
   "name": "python",
   "nbconvert_exporter": "python",
   "pygments_lexer": "ipython2",
   "version": "2.7.6"
  }
 },
 "nbformat": 4,
 "nbformat_minor": 0
}