{
 "cells": [
  {
   "cell_type": "code",
   "execution_count": 79,
   "metadata": {
    "collapsed": true
   },
   "outputs": [],
   "source": [
    "import fiona\n",
    "import rasterio as rio\n",
    "import rasterio.mask\n",
    "import pyproj\n",
    "import sys\n",
    "from osgeo import gdal\n",
    "import os\n",
    "from tqdm import  tqdm"
   ]
  },
  {
   "cell_type": "code",
   "execution_count": 81,
   "outputs": [],
   "source": [
    "src = r'E:\\Desktop\\20221114-1119\\20221114\\LAI\\2021\\S2B_MSIL2A_20210623T020659_N0300_R103_T53UMP_20210623T042809\\S2B_MSIL2A_20210623T020659_N0300_R103.tif'\n",
    "shpdatafilelist = [r'E:\\Desktop\\20221114-1119\\20221114\\shp\\edhnc\\二道河农场.shp',\n",
    "                   r'E:\\Desktop\\20221114-1119\\20221114\\shp\\hwnc\\红卫农场.shp',\n",
    "                   r'E:\\Desktop\\20221114-1119\\20221114\\shp\\ylhnc\\鸭绿河农场.shp']\n",
    "basename = r'E:\\Desktop\\20221114-1119\\20221114\\LAI\\2021\\CLIP2021'"
   ],
   "metadata": {
    "collapsed": false,
    "pycharm": {
     "name": "#%%\n"
    }
   }
  },
  {
   "cell_type": "code",
   "execution_count": 82,
   "outputs": [],
   "source": [
    "# for i in shpdatafilelist:\n",
    "#     clipRasterByShapefile(src, i, basename, nodata=0)"
   ],
   "metadata": {
    "collapsed": false,
    "pycharm": {
     "name": "#%%\n"
    }
   }
  },
  {
   "cell_type": "code",
   "execution_count": 83,
   "outputs": [
    {
     "name": "stderr",
     "output_type": "stream",
     "text": [
      "\n",
      "\n",
      "  0%|          | 0/3 [00:00<?, ?it/s]\u001B[A\u001B[A\n",
      "\n",
      " 33%|███▎      | 1/3 [00:35<01:10, 35.23s/it]\u001B[A\u001B[A"
     ]
    },
    {
     "name": "stdout",
     "output_type": "stream",
     "text": [
      "E:\\Desktop\\20221114-1119\\20221114\\LAI\\2021\\CLIP2021\\二道河农场_S2B_MSIL2A_20210623T020659_N0300_R103.tif\n"
     ]
    },
    {
     "name": "stderr",
     "output_type": "stream",
     "text": [
      "\n",
      "\n",
      " 67%|██████▋   | 2/3 [00:41<00:18, 18.26s/it]\u001B[A\u001B[A"
     ]
    },
    {
     "name": "stdout",
     "output_type": "stream",
     "text": [
      "E:\\Desktop\\20221114-1119\\20221114\\LAI\\2021\\CLIP2021\\红卫农场_S2B_MSIL2A_20210623T020659_N0300_R103.tif\n"
     ]
    },
    {
     "name": "stderr",
     "output_type": "stream",
     "text": [
      "\n",
      "\n",
      "100%|██████████| 3/3 [00:47<00:00, 15.99s/it]\u001B[A\u001B[A"
     ]
    },
    {
     "name": "stdout",
     "output_type": "stream",
     "text": [
      "E:\\Desktop\\20221114-1119\\20221114\\LAI\\2021\\CLIP2021\\鸭绿河农场_S2B_MSIL2A_20210623T020659_N0300_R103.tif\n"
     ]
    },
    {
     "name": "stderr",
     "output_type": "stream",
     "text": [
      "\n"
     ]
    }
   ],
   "source": [
    "\n",
    "for i in tqdm(shpdatafilelist):\n",
    "    shpname = i.split('\\\\')[-1].split('.')[0]\n",
    "    tifname = src.split('\\\\')[-1].split('.')[0]\n",
    "    dst = os.path.join(basename +'\\\\'+ shpname + '_' + tifname + '.tif')\n",
    "    ds = gdal.Warp(dst,  # 裁剪图像保存完整路径（包括文件名）\n",
    "                   src,  # 待裁剪的影像\n",
    "                   format='GTiff',  # 保存图像的格式\n",
    "                   cutlineDSName=i,  # 矢量文件的完整路径\n",
    "                   cropToCutline=True,  # 保证裁剪后影像大小跟矢量文件的图框大小一致（设置为False时，结果图像大小会跟待裁剪影像大小一样，则会出现大量的空值区域）\n",
    "                   # cutlineWhere=\"FIELD = 'whatever'\",\n",
    "                   dstNodata=0)\n",
    "    print(dst)"
   ],
   "metadata": {
    "collapsed": false,
    "pycharm": {
     "name": "#%%\n"
    }
   }
  },
  {
   "cell_type": "code",
   "execution_count": null,
   "outputs": [],
   "source": [],
   "metadata": {
    "collapsed": false,
    "pycharm": {
     "name": "#%%\n"
    }
   }
  }
 ],
 "metadata": {
  "kernelspec": {
   "display_name": "Python 3",
   "language": "python",
   "name": "python3"
  },
  "language_info": {
   "codemirror_mode": {
    "name": "ipython",
    "version": 2
   },
   "file_extension": ".py",
   "mimetype": "text/x-python",
   "name": "python",
   "nbconvert_exporter": "python",
   "pygments_lexer": "ipython2",
   "version": "2.7.6"
  }
 },
 "nbformat": 4,
 "nbformat_minor": 0
}